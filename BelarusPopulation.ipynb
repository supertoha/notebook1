{
 "cells": [
  {
   "cell_type": "markdown",
   "metadata": {},
   "source": [
    "# Население беларуси"
   ]
  },
  {
   "cell_type": "code",
   "execution_count": 1,
   "metadata": {},
   "outputs": [
    {
     "data": {
      "text/html": [
       "Installing package XPlot.Plotly, version 3.0.1.........................done!"
      ]
     },
     "metadata": {},
     "output_type": "display_data"
    },
    {
     "data": {
      "text/html": [
       "Successfully added reference to package XPlot.Plotly, version "
      ]
     },
     "metadata": {},
     "output_type": "display_data"
    },
    {
     "data": {
      "text/html": [
       "Installing package HtmlAgilityPack, version 1.11.24.0...done!"
      ]
     },
     "metadata": {},
     "output_type": "display_data"
    },
    {
     "data": {
      "text/html": [
       "Successfully added reference to package HtmlAgilityPack, version "
      ]
     },
     "metadata": {},
     "output_type": "display_data"
    }
   ],
   "source": [
    "#r \"nuget:XPlot.Plotly, 3.0.1\"\n",
    "#r \"nuget:HtmlAgilityPack, 1.11.24.0\"\n",
    "    \n",
    "using System.Net;\n",
    "using System.Text;\n",
    "using System.Globalization;\n",
    "using XPlot.Plotly;\n",
    "using HtmlAgilityPack;\n",
    "using System.Data;"
   ]
  },
  {
   "cell_type": "code",
   "execution_count": 2,
   "metadata": {},
   "outputs": [],
   "source": [
    "// сглаживающая функция\n",
    "Func<IEnumerable<double>, int, IEnumerable<double>> smoothingFunc = (input, times/*гладкость*/) =>\n",
    "{\n",
    "    var result = input.ToList();//clone\n",
    "    for (int j = 0; j < times; j++) \n",
    "    {\n",
    "        result = result.Select((x, i) => result.Skip(i-1).Take(3).Average()).ToList();\n",
    "    }\n",
    "    \n",
    "    return result;\n",
    "};"
   ]
  },
  {
   "cell_type": "code",
   "execution_count": 3,
   "metadata": {},
   "outputs": [],
   "source": [
    "// наша модель данных\n",
    "public class BelarusPipleStat\n",
    "{\n",
    "    public BelarusPipleStat(string[] prms)\n",
    "    {\n",
    "        Year = Int32.Parse(prms[0]);\n",
    "        Total = Int32.Parse(prms[1]);\n",
    "        New = Double.Parse(prms[3]);\n",
    "        \n",
    "        var deths = 0D;\n",
    "        if(Double.TryParse(prms[5], out deths))\n",
    "            Deths = deths;\n",
    "    }    \n",
    "    \n",
    "    public int Year {get;set;}        \n",
    "    public int Total {get;set;}    \n",
    "    public double New {get;set;}    \n",
    "    public double? Deths {get;set;}   \n",
    "}"
   ]
  },
  {
   "cell_type": "code",
   "execution_count": 4,
   "metadata": {},
   "outputs": [],
   "source": [
    "// стянем данные из википедии\n",
    "var web = new HtmlWeb();\n",
    "var doc = web.Load(\"https://ru.wikipedia.org/wiki/Население_Белоруссии\");\n",
    "var tableNode2 = doc.DocumentNode.SelectSingleNode(\"/html/body/div[3]/div[3]/div[4]/div/table[3]\");\n",
    "\n",
    "var headers = tableNode2.SelectNodes(\".//tr/th\");\n",
    "var dataList = new List<BelarusPipleStat>();\n",
    "\n",
    "foreach (var row in tableNode2.SelectNodes(\".//tr[td]\"))\n",
    "{\n",
    "    dataList.Add(new BelarusPipleStat(row.SelectNodes(\".//td//text()\").Select(td =>td.InnerText.Replace(\"&#160;\", \"\").Replace(\"&#nbsp;\", \"\").Replace(\" \", \"\")).ToArray()));\n",
    "}    "
   ]
  },
  {
   "cell_type": "code",
   "execution_count": 5,
   "metadata": {
    "scrolled": true
   },
   "outputs": [
    {
     "data": {
      "text/html": [
       "<table><thead><tr><th><i>index</i></th><th>Year</th><th>Total</th><th>New</th><th>Deths</th></tr></thead><tbody><tr><td>0</td><td>1950</td><td>7745000</td><td>197164</td><td>61944</td></tr><tr><td>1</td><td>1951</td><td>7765000</td><td>198200</td><td>61200</td></tr><tr><td>2</td><td>1952</td><td>7721000</td><td>191100</td><td>64200</td></tr><tr><td>3</td><td>1953</td><td>7690000</td><td>176200</td><td>61900</td></tr><tr><td>4</td><td>1954</td><td>7722000</td><td>193100</td><td>61600</td></tr><tr><td>5</td><td>1955</td><td>7804000</td><td>194345</td><td>57966</td></tr><tr><td>6</td><td>1956</td><td>7880000</td><td>199500</td><td>56000</td></tr><tr><td>7</td><td>1957</td><td>7936000</td><td>200800</td><td>58000</td></tr><tr><td>8</td><td>1958</td><td>8009000</td><td>207700</td><td>53700</td></tr><tr><td>9</td><td>1959</td><td>8055714</td><td>204600</td><td>62600</td></tr><tr><td>10</td><td>1960</td><td>8190000</td><td>200218</td><td>54037</td></tr><tr><td>11</td><td>1961</td><td>8284000</td><td>194239</td><td>53682</td></tr><tr><td>12</td><td>1962</td><td>8385000</td><td>185302</td><td>60676</td></tr><tr><td>13</td><td>1963</td><td>8458000</td><td>173889</td><td>58291</td></tr><tr><td>14</td><td>1964</td><td>8519000</td><td>161794</td><td>53967</td></tr><tr><td>15</td><td>1965</td><td>8607000</td><td>153865</td><td>58156</td></tr><tr><td>16</td><td>1966</td><td>8709000</td><td>153414</td><td>58265</td></tr><tr><td>17</td><td>1967</td><td>8800000</td><td>147501</td><td>61263</td></tr><tr><td>18</td><td>1968</td><td>8877000</td><td>146095</td><td>62354</td></tr><tr><td>19</td><td>1969</td><td>8957000</td><td>142652</td><td>65912</td></tr><tr><td>20</td><td>1970</td><td>8992190</td><td>146676</td><td>68974</td></tr><tr><td>21</td><td>1971</td><td>9112000</td><td>149135</td><td>68511</td></tr><tr><td>22</td><td>1972</td><td>9178000</td><td>147813</td><td>71866</td></tr><tr><td>23</td><td>1973</td><td>9245000</td><td>144729</td><td>73927</td></tr><tr><td>24</td><td>1974</td><td>9312000</td><td>146876</td><td>73181</td></tr><tr><td>25</td><td>1975</td><td>9367000</td><td>146517</td><td>79701</td></tr><tr><td>26</td><td>1976</td><td>9411000</td><td>147912</td><td>82400</td></tr><tr><td>27</td><td>1977</td><td>9463000</td><td>148963</td><td>84565</td></tr><tr><td>28</td><td>1978</td><td>9525000</td><td>151053</td><td>86612</td></tr><tr><td>29</td><td>1979</td><td>9532516</td><td>151800</td><td>90837</td></tr><tr><td>30</td><td>1980</td><td>9658000</td><td>154432</td><td>95514</td></tr><tr><td>31</td><td>1981</td><td>9732000</td><td>157899</td><td>93136</td></tr><tr><td>32</td><td>1982</td><td>9804000</td><td>159364</td><td>93840</td></tr><tr><td>33</td><td>1983</td><td>9872000</td><td>173510</td><td>97849</td></tr><tr><td>34</td><td>1984</td><td>9938000</td><td>168749</td><td>104274</td></tr><tr><td>35</td><td>1985</td><td>9999000</td><td>165034</td><td>105690</td></tr><tr><td>36</td><td>1986</td><td>10058000</td><td>171611</td><td>97276</td></tr><tr><td>37</td><td>1987</td><td>10111000</td><td>162937</td><td>99921</td></tr><tr><td>38</td><td>1988</td><td>10144000</td><td>163193</td><td>102671</td></tr><tr><td>39</td><td>1989</td><td>10151806</td><td>153449</td><td>103479</td></tr><tr><td>40</td><td>1990</td><td>10188942</td><td>142167</td><td>109582</td></tr><tr><td>41</td><td>1991</td><td>10189753</td><td>132045</td><td>114650</td></tr><tr><td>42</td><td>1992</td><td>10198346</td><td>127971</td><td>116674</td></tr><tr><td>43</td><td>1993</td><td>10234593</td><td>117384</td><td>128544</td></tr><tr><td>44</td><td>1994</td><td>10243506</td><td>110599</td><td>130003</td></tr><tr><td>45</td><td>1995</td><td>10210403</td><td>101144</td><td>133775</td></tr><tr><td>46</td><td>1996</td><td>10177258</td><td>95798</td><td>133422</td></tr><tr><td>47</td><td>1997</td><td>10141880</td><td>89586</td><td>136653</td></tr><tr><td>48</td><td>1998</td><td>10092986</td><td>92645</td><td>137296</td></tr><tr><td>49</td><td>1999</td><td>10045237</td><td>92975</td><td>142027</td></tr><tr><td>50</td><td>2000</td><td>10002535</td><td>93691</td><td>134867</td></tr><tr><td>51</td><td>2001</td><td>9956684</td><td>91720</td><td>140299</td></tr><tr><td>52</td><td>2002</td><td>9900414</td><td>88743</td><td>146665</td></tr><tr><td>53</td><td>2003</td><td>9830681</td><td>88512</td><td>143200</td></tr><tr><td>54</td><td>2004</td><td>9762817</td><td>88943</td><td>140064</td></tr><tr><td>55</td><td>2005</td><td>9697475</td><td>90508</td><td>141857</td></tr><tr><td>56</td><td>2006</td><td>9630354</td><td>96721</td><td>138426</td></tr><tr><td>57</td><td>2007</td><td>9579493</td><td>103626</td><td>132993</td></tr><tr><td>58</td><td>2008</td><td>9542412</td><td>107876</td><td>133879</td></tr><tr><td>59</td><td>2009</td><td>9513557</td><td>109263</td><td>135097</td></tr><tr><td>60</td><td>2010</td><td>9499972</td><td>108050</td><td>137132</td></tr><tr><td>61</td><td>2011</td><td>9481193</td><td>109147</td><td>135090</td></tr><tr><td>62</td><td>2012</td><td>9465150</td><td>115893</td><td>126531</td></tr><tr><td>63</td><td>2013</td><td>9463840</td><td>117997</td><td>125326</td></tr><tr><td>64</td><td>2014</td><td>9468154</td><td>118534</td><td>121542</td></tr><tr><td>65</td><td>2015</td><td>9480868</td><td>119208</td><td>120026</td></tr><tr><td>66</td><td>2016</td><td>9498364</td><td>117779</td><td>119379</td></tr><tr><td>67</td><td>2017</td><td>9504704</td><td>102356</td><td>119051</td></tr><tr><td>68</td><td>2018</td><td>9491883</td><td>94042</td><td>120053</td></tr><tr><td>69</td><td>2019</td><td>9475702</td><td>87851</td><td>&lt;null&gt;</td></tr></tbody></table>"
      ]
     },
     "metadata": {},
     "output_type": "display_data"
    }
   ],
   "source": [
    "display(dataList);"
   ]
  },
  {
   "cell_type": "code",
   "execution_count": 6,
   "metadata": {},
   "outputs": [
    {
     "data": {
      "text/html": [
       "<div id=\"8ba5f3a1-bbec-4d6a-b201-0620a7e761ae\" style=\"width: 900px; height: 500px;\"></div><script type=\"text/javascript\">\r\n",
       "\r\n",
       "var renderPlotly = function() {\r\n",
       "    var xplotRequire = requirejs.config({context:'xplot-2.0.0',paths:{plotly:'https://cdn.plot.ly/plotly-1.49.2.min'}});\r\n",
       "    xplotRequire(['plotly'], function(Plotly) {\r\n",
       "\n",
       "            var data = [{\"type\":\"scatter\",\"x\":[1993,1994,1995,1996,1997,1998,1999,2000,2001,2002,2003,2004,2005,2006,2007,2008,2009,2010,2011,2012,2013,2014,2015,2016,2017,2018,2019],\"y\":[10234593,10243506,10210403,10177258,10141880,10092986,10045237,10002535,9956684,9900414,9830681,9762817,9697475,9630354,9579493,9542412,9513557,9499972,9481193,9465150,9463840,9468154,9480868,9498364,9504704,9491883,9475702],\"name\":\"Численость\"}];\n",
       "            var layout = \"\";\n",
       "            Plotly.newPlot('8ba5f3a1-bbec-4d6a-b201-0620a7e761ae', data, layout);\n",
       "        });\r\n",
       "};\r\n",
       "if ((typeof(requirejs) !==  typeof(Function)) || (typeof(requirejs.config) !== typeof(Function))) { \r\n",
       "    var script = document.createElement(\"script\"); \r\n",
       "    script.setAttribute(\"src\", \"https://cdnjs.cloudflare.com/ajax/libs/require.js/2.3.6/require.min.js\"); \r\n",
       "    script.onload = function(){\r\n",
       "        renderPlotly();\r\n",
       "    };\r\n",
       "    document.getElementsByTagName(\"head\")[0].appendChild(script); \r\n",
       "}\r\n",
       "else {\r\n",
       "    renderPlotly();\r\n",
       "}\r\n",
       "</script>"
      ]
     },
     "metadata": {},
     "output_type": "display_data"
    }
   ],
   "source": [
    "// отобразим численность населения с 93го года\n",
    "var belarusPopulation = dataList.Where(x=>x.Year>=1993);\n",
    "var belarusPipleTotalPlot = new Graph.Scatter(){x=belarusPopulation.Select(x=>x.Year), y=belarusPopulation.Select(x=>x.Total), name=\"Численость\"};\n",
    "display(Chart.Plot(new [] {belarusPipleTotalPlot}));"
   ]
  },
  {
   "cell_type": "code",
   "execution_count": 7,
   "metadata": {},
   "outputs": [
    {
     "data": {
      "text/html": [
       "<div id=\"45620eb3-c88a-4cd7-b3d9-0ab20135f4b9\" style=\"width: 900px; height: 500px;\"></div><script type=\"text/javascript\">\r\n",
       "\r\n",
       "var renderPlotly = function() {\r\n",
       "    var xplotRequire = requirejs.config({context:'xplot-2.0.0',paths:{plotly:'https://cdn.plot.ly/plotly-1.49.2.min'}});\r\n",
       "    xplotRequire(['plotly'], function(Plotly) {\r\n",
       "\n",
       "            var data = [{\"type\":\"scatter\",\"x\":[1993,1994,1995,1996,1997,1998,1999,2000,2001,2002,2003,2004,2005,2006,2007,2008,2009,2010,2011,2012,2013,2014,2015,2016,2017,2018,2019],\"y\":[103671.82716049382,103671.82716049382,101490.31275720165,98255.80658436213,95358.63374485595,93499.48971193413,92518.36213991768,91843.55144032922,91146.78600823045,90566.4197530864,90602.99588477367,91753.81069958849,94201.1069958848,97633.03703703707,101369.32921810703,104733.84773662552,107454.670781893,109721.8353909465,111878.81481481482,113954.17695473252,115494.48559670783,115677.93415637861,113816.0267489712,109815.63888888889,104617.54063786009,99962.00745884776,97719.82754629632],\"name\":\"Родилось\"},{\"type\":\"scatter\",\"x\":[1993,1994,1995,1996,1997,1998,1999,2000,2001,2002,2003,2004,2005,2006,2007,2008,2009,2010,2011,2012,2013,2014,2015,2016,2017,2018,2019],\"y\":[132367.08230452673,132367.08230452673,133140.8477366255,134443.23868312757,135898.67489711934,137273.90946502055,138500.0781893004,139681.3744855967,140764.5967078189,141530.10699588477,141631.0905349794,140920.95884773662,139546.03292181066,137922.2016460905,136492.07407407404,135449.89711934156,134567.11111111112,133337.2633744856,131363.49794238684,128712.75720164609,125846.61728395062,123331.15637860082,121490.31893004115,120371.56893004115,119812.88220164606,119630.49305555555],\"name\":\"Умерло\"}];\n",
       "            var layout = \"\";\n",
       "            Plotly.newPlot('45620eb3-c88a-4cd7-b3d9-0ab20135f4b9', data, layout);\n",
       "        });\r\n",
       "};\r\n",
       "if ((typeof(requirejs) !==  typeof(Function)) || (typeof(requirejs.config) !== typeof(Function))) { \r\n",
       "    var script = document.createElement(\"script\"); \r\n",
       "    script.setAttribute(\"src\", \"https://cdnjs.cloudflare.com/ajax/libs/require.js/2.3.6/require.min.js\"); \r\n",
       "    script.onload = function(){\r\n",
       "        renderPlotly();\r\n",
       "    };\r\n",
       "    document.getElementsByTagName(\"head\")[0].appendChild(script); \r\n",
       "}\r\n",
       "else {\r\n",
       "    renderPlotly();\r\n",
       "}\r\n",
       "</script>"
      ]
     },
     "metadata": {},
     "output_type": "display_data"
    }
   ],
   "source": [
    "// отобразим прирост/убывание немного сгладив\n",
    "var belarusPopulationNewPlot = new Graph.Scatter(){x=belarusPopulation.Select(x=>x.Year), y=smoothingFunc(belarusPopulation.Select(x=>x.New), 5), name=\"Родилось\"};\n",
    "var belarusPopulationDeathPlot = new Graph.Scatter(){x=belarusPopulation.Select(x=>x.Year), y=smoothingFunc(belarusPopulation.Where(x=>x.Deths.HasValue).Select(x=>x.Deths.Value), 5), name=\"Умерло\"};\n",
    "display(Chart.Plot(new [] { belarusPopulationNewPlot, belarusPopulationDeathPlot }));"
   ]
  },
  {
   "cell_type": "code",
   "execution_count": null,
   "metadata": {},
   "outputs": [],
   "source": []
  }
 ],
 "metadata": {
  "kernelspec": {
   "display_name": ".NET (C#)",
   "language": "C#",
   "name": ".net-csharp"
  },
  "language_info": {
   "file_extension": ".cs",
   "mimetype": "text/x-csharp",
   "name": "C#",
   "pygments_lexer": "csharp",
   "version": "8.0"
  }
 },
 "nbformat": 4,
 "nbformat_minor": 4
}
